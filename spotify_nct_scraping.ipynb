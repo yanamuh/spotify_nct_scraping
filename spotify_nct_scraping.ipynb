{
 "cells": [
  {
   "cell_type": "markdown",
   "metadata": {},
   "source": [
    "# Spotify Data Scraping\n",
    "using spotipy (spotify api)"
   ]
  },
  {
   "cell_type": "markdown",
   "metadata": {},
   "source": [
    "## Get all tracks and info about the tracks for NCT artist (NCT 127, NCT, NCT U, NCT Dream, WayV)\n",
    "References:\n",
    "- https://rareloot.medium.com/extracting-spotify-data-on-your-favourite-artist-via-python-d58bc92a4330\n",
    "- https://towardsdatascience.com/extracting-song-data-from-the-spotify-api-using-python-b1e79388d50\n",
    "- https://rareloot.medium.com/extracting-spotify-data-on-your-favourite-artist-via-python-d58bc92a4330\n",
    "- spotipy dev: https://developer.spotify.com/discover/\n",
    "- metadata: https://developer.spotify.com/documentation/web-api/reference/#/\n",
    "- https://developer.spotify.com/documentation/web-api/reference/#/operations/get-playlists-tracks\n",
    "- docs: https://spotipy.readthedocs.io/en/2.19.0/#getting-started"
   ]
  },
  {
   "cell_type": "code",
   "execution_count": 1,
   "metadata": {},
   "outputs": [],
   "source": [
    "# Client ID XXXXXX\n",
    "# Client Secret YYYYYYY\n",
    "import spotipy\n",
    "import pandas as pd\n",
    "from spotipy.oauth2 import SpotifyClientCredentials\n",
    "from http import client\n",
    "from pydoc import cli\n",
    "cid = 'XXXXXX'\n",
    "secret = 'YYYYYYY'\n",
    "client_credentials_manager = SpotifyClientCredentials(client_id=cid, client_secret=secret)\n",
    "sp = spotipy.Spotify(client_credentials_manager=client_credentials_manager)"
   ]
  },
  {
   "cell_type": "markdown",
   "metadata": {},
   "source": [
    "#### URI for each artist.\n",
    "You can get it from the artist spotify page.\n",
    "- URI NCT 127  https://open.spotify.com/artist/7f4ignuCJhLXfZ9giKT7rH?si=Aj1uY3-IRfuBA-mWhi3DqA \n",
    "- URI NCT https://open.spotify.com/artist/48eO052eSDcn8aTxiv6QaG?si=-aMQhhqjQ4ysAoGA1smzXQ\n",
    "- URI NCT U https://open.spotify.com/artist/3paGCCtX1Xr4Gx53mSeZuQ?si=UZd10jthT3CprVpXI8P5DA\n",
    "- URI NCT DREAM https://open.spotify.com/artist/1gBUSTR3TyDdTVFIaQnc02?si=CAMGP0bKR_OTIOsWmBMlUQ\n",
    "- URI WAYV https://open.spotify.com/artist/1qBsABYUrxg9afpMtyoFKz?si=3vKmSjrdSpevtSUsD1ShRw"
   ]
  },
  {
   "cell_type": "code",
   "execution_count": 2,
   "metadata": {},
   "outputs": [],
   "source": [
    "# link of each artist\n",
    "nct127_link = 'https://open.spotify.com/artist/7f4ignuCJhLXfZ9giKT7rH?si=Aj1uY3-IRfuBA-mWhi3DqA'\n",
    "nct_link = 'https://open.spotify.com/artist/48eO052eSDcn8aTxiv6QaG?si=-aMQhhqjQ4ysAoGA1smzXQ'\n",
    "nctu_link = 'https://open.spotify.com/artist/3paGCCtX1Xr4Gx53mSeZuQ?si=UZd10jthT3CprVpXI8P5DA'\n",
    "nctdream_link = 'https://open.spotify.com/artist/1gBUSTR3TyDdTVFIaQnc02?si=CAMGP0bKR_OTIOsWmBMlUQ'\n",
    "wayv_link = 'https://open.spotify.com/artist/1qBsABYUrxg9afpMtyoFKz?si=3vKmSjrdSpevtSUsD1ShRw'"
   ]
  },
  {
   "cell_type": "markdown",
   "metadata": {},
   "source": [
    "### Functions"
   ]
  },
  {
   "cell_type": "markdown",
   "metadata": {},
   "source": [
    "##### Get list of albums `get_albums(artist_name, artist_link, type_of_album)`"
   ]
  },
  {
   "cell_type": "code",
   "execution_count": 3,
   "metadata": {},
   "outputs": [],
   "source": [
    "\"\"\"\n",
    "Function to get list of artist's albums and return it as dataframe and raw dictionary of album's info.\n",
    "Input parameter: artist name, artist link, type of album (single/album)\n",
    "return:\n",
    "1. albums_artist_list = dataframe of the artist's albums = get_albums(par)[0]\n",
    "2. albums_artist = raw data (dictionary) of artist's album = get_albums(par)[1]\n",
    "\"\"\"\n",
    "\n",
    "def get_albums(artist_name, artist_link, type_of_album):\n",
    "    artist_uri = artist_link.split(\"/\")[-1].split('?')[0]\n",
    "    artist_results = sp.artist_albums(artist_uri, album_type=type_of_album)\n",
    "    albums_artist = artist_results['items']\n",
    "    while artist_results['next']:\n",
    "        artist_results = sp.next(artist_results)\n",
    "        artist_results.extend(artist_results['items'])\n",
    "    albums_artist_list = []\n",
    "    for album in albums_artist:\n",
    "        albums_artist_list.append([artist_name, album['name'],album['album_type'], album['release_date'], album['total_tracks'],album['uri']])\n",
    "\n",
    "    albums_artist_list = pd.DataFrame(albums_artist_list, columns=['artist_name', 'album_name','album_type','release_date','total_tracks','album_uri'])\n",
    "    albums_artist_list.drop_duplicates(inplace=True)\n",
    "    return albums_artist_list, albums_artist"
   ]
  },
  {
   "cell_type": "markdown",
   "metadata": {},
   "source": [
    "##### Get all tracks `get_all_tracks(artist_name, albums)`"
   ]
  },
  {
   "cell_type": "code",
   "execution_count": 4,
   "metadata": {},
   "outputs": [],
   "source": [
    "\"\"\"\n",
    "Get all tracks from all albums of an artist.\n",
    "input:\n",
    "- artist_name = artist name\n",
    "- albums = dictionary of album raw data.\n",
    "\n",
    "return\n",
    "- all tracks in dataframe format\n",
    "\"\"\"\n",
    "def get_all_tracks(albums):\n",
    "    artist_tracks = []\n",
    "    for album in albums:\n",
    "        track = sp.album_tracks(album['uri'])\n",
    "        for n in (track['items']):\n",
    "            track_uri = n['uri'].split(':')[2]\n",
    "            track_info = sp.track(str(track_uri))\n",
    "            track_features = sp.audio_features(track_uri)\n",
    "            # track_audio_analysis = sp.audio_analysis(track_uri)\n",
    "            # print(track_info)\n",
    "            all_information = [n['name'], n['duration_ms'],n['explicit'],n['track_number'],\n",
    "                                track_info['popularity'],\n",
    "                                album['artists'][0]['name'],\n",
    "                                album['name'],album['release_date'],\n",
    "                                track_features[0]['danceability'],track_features[0]['energy'],track_features[0]['key'],track_features[0]['loudness'],track_features[0]['mode'],track_features[0]['speechiness'],track_features[0]['acousticness'],track_features[0]['instrumentalness'],track_features[0]['liveness'],track_features[0]['tempo'],track_features[0]['time_signature'],\n",
    "                                album['uri'],\n",
    "                                n['uri']]\n",
    "            artist_tracks.append(all_information)\n",
    "\n",
    "    artist_tracks_df = pd.DataFrame(artist_tracks, columns=['name','duration_ms','explicit','track_number',\n",
    "                                                    'popularity',\n",
    "                                                    'artist_name',\n",
    "                                                    'album_name','release_date',\n",
    "                                                    'danceability','energy','key','loudness','mode','speechiness','acousticness','instrumentalness','liveness','tempo','time_signature',\n",
    "                                                    'album_uri',\n",
    "                                                    'track_uri'])\n",
    "    return artist_tracks_df"
   ]
  },
  {
   "cell_type": "markdown",
   "metadata": {},
   "source": [
    "##### Get top tracks for each artist `get_top_tracks(artist_link)`"
   ]
  },
  {
   "cell_type": "code",
   "execution_count": 5,
   "metadata": {},
   "outputs": [],
   "source": [
    "\"\"\"\n",
    "Get top tracks of an artist and other audio features for each track\n",
    "Input parameter: \n",
    "- artist_link : link to artist page\n",
    "Output\n",
    "- dataframe of top tracks from an artist\n",
    "\"\"\"\n",
    "def get_top_tracks(artist_name, artist_link):\n",
    "    artist_uri = artist_link.split(\"/\")[-1].split('?')[0]\n",
    "    artist_toptracks = sp.artist_top_tracks(artist_uri)\n",
    "    toptracks = artist_toptracks['tracks']\n",
    "    list_toptracks = [[artist_name, i['name'], i['album']['name'], i['popularity'], i['track_number'], i['duration_ms'], i['explicit'], i['id'], i['uri']] for i in toptracks]\n",
    "    toptracks_df = pd.DataFrame(list_toptracks, columns=['artist_name','name','album','popularity','track_number','duration_ms','explicit','id', 'track_uri'])\n",
    "    \n",
    "    features = []\n",
    "    for i in toptracks:\n",
    "        uri = i['uri'].split(':')[2]\n",
    "        track_info = sp.track(str(uri))\n",
    "        track_features = sp.audio_features(uri)\n",
    "        # print(track_info)\n",
    "        comb = [track_info['name'],track_features[0]['danceability'],track_features[0]['energy'],track_features[0]['key'],track_features[0]['loudness'],track_features[0]['mode'],track_features[0]['speechiness'],track_features[0]['acousticness'],track_features[0]['instrumentalness'],track_features[0]['liveness'],track_features[0]['tempo'],track_features[0]['time_signature'],i['uri']]\n",
    "        features.append(comb)\n",
    "    # features\n",
    "    feature_tracks_df = pd.DataFrame(features, columns=['name','danceability','energy','key','loudness','mode','speechiness','acousticness','instrumentalness','liveness','tempo','time_signature','track_uri'])\n",
    "    top_tracks_info = pd.merge(toptracks_df, feature_tracks_df, on=['name','track_uri']).reset_index(drop=True)\n",
    "    return top_tracks_info"
   ]
  },
  {
   "cell_type": "markdown",
   "metadata": {},
   "source": [
    "#### Scrape the data\n",
    "Get the album, single, all tracks in the album/single, and also top tracks for each artist"
   ]
  },
  {
   "cell_type": "code",
   "execution_count": 6,
   "metadata": {},
   "outputs": [],
   "source": [
    "# nct127_album = get_albums('NCT 127', nct127_link, 'album')[0]\n",
    "# nct127_tracks = get_all_tracks(get_albums('NCT 127', nct127_link, 'album')[1])\n",
    "# nct127_top_tracks = get_top_tracks(nct127_link)"
   ]
  },
  {
   "cell_type": "code",
   "execution_count": 7,
   "metadata": {},
   "outputs": [
    {
     "name": "stdout",
     "output_type": "stream",
     "text": [
      "<class 'pandas.core.frame.DataFrame'>\n",
      "RangeIndex: 58 entries, 0 to 57\n",
      "Data columns (total 6 columns):\n",
      " #   Column        Non-Null Count  Dtype \n",
      "---  ------        --------------  ----- \n",
      " 0   artist_name   58 non-null     object\n",
      " 1   album_name    58 non-null     object\n",
      " 2   album_type    58 non-null     object\n",
      " 3   release_date  58 non-null     object\n",
      " 4   total_tracks  58 non-null     int64 \n",
      " 5   album_uri     58 non-null     object\n",
      "dtypes: int64(1), object(5)\n",
      "memory usage: 2.8+ KB\n",
      "None\n"
     ]
    }
   ],
   "source": [
    "nct127_single = get_albums('NCT 127', nct127_link, 'single')\n",
    "nct_single = get_albums('NCT', nct_link, 'single')\n",
    "nctu_single = get_albums('NCT U', nctu_link, 'single')\n",
    "nctdream_single = get_albums('NCT DREAM', nctdream_link, 'single')\n",
    "wayv_single = get_albums('WayV', wayv_link, 'single')\n",
    "all_single = pd.concat([nct127_single[0], nct_single[0], nctu_single[0], nctdream_single[0], wayv_single[0]]).reset_index(drop=True)\n",
    "print(all_single.info())"
   ]
  },
  {
   "cell_type": "code",
   "execution_count": 8,
   "metadata": {},
   "outputs": [
    {
     "name": "stdout",
     "output_type": "stream",
     "text": [
      "<class 'pandas.core.frame.DataFrame'>\n",
      "RangeIndex: 31 entries, 0 to 30\n",
      "Data columns (total 6 columns):\n",
      " #   Column        Non-Null Count  Dtype \n",
      "---  ------        --------------  ----- \n",
      " 0   artist_name   31 non-null     object\n",
      " 1   album_name    31 non-null     object\n",
      " 2   album_type    31 non-null     object\n",
      " 3   release_date  31 non-null     object\n",
      " 4   total_tracks  31 non-null     object\n",
      " 5   album_uri     31 non-null     object\n",
      "dtypes: object(6)\n",
      "memory usage: 1.6+ KB\n",
      "None\n"
     ]
    }
   ],
   "source": [
    "nct127_album = get_albums('NCT 127', nct127_link, 'album')\n",
    "nct_album = get_albums('NCT', nct_link, 'album')\n",
    "nctu_album = get_albums('NCT U', nctu_link, 'album')\n",
    "nctdream_album = get_albums('NCT DREAM', nctdream_link, 'album')\n",
    "wayv_album = get_albums('WayV', wayv_link, 'album')\n",
    "all_albums = pd.concat([nct127_album[0], nct_album[0], nctu_album[0], nctdream_album[0], wayv_album[0]]).reset_index(drop=True)\n",
    "print(all_albums.info())"
   ]
  },
  {
   "cell_type": "code",
   "execution_count": 9,
   "metadata": {},
   "outputs": [
    {
     "name": "stdout",
     "output_type": "stream",
     "text": [
      "<class 'pandas.core.frame.DataFrame'>\n",
      "RangeIndex: 417 entries, 0 to 416\n",
      "Data columns (total 21 columns):\n",
      " #   Column            Non-Null Count  Dtype  \n",
      "---  ------            --------------  -----  \n",
      " 0   name              417 non-null    object \n",
      " 1   duration_ms       417 non-null    object \n",
      " 2   explicit          417 non-null    object \n",
      " 3   track_number      417 non-null    object \n",
      " 4   popularity        417 non-null    object \n",
      " 5   artist_name       417 non-null    object \n",
      " 6   album_name        417 non-null    object \n",
      " 7   release_date      417 non-null    object \n",
      " 8   danceability      417 non-null    float64\n",
      " 9   energy            417 non-null    float64\n",
      " 10  key               417 non-null    object \n",
      " 11  loudness          417 non-null    float64\n",
      " 12  mode              417 non-null    object \n",
      " 13  speechiness       417 non-null    float64\n",
      " 14  acousticness      417 non-null    float64\n",
      " 15  instrumentalness  417 non-null    float64\n",
      " 16  liveness          417 non-null    float64\n",
      " 17  tempo             417 non-null    float64\n",
      " 18  time_signature    417 non-null    object \n",
      " 19  album_uri         417 non-null    object \n",
      " 20  track_uri         417 non-null    object \n",
      "dtypes: float64(8), object(13)\n",
      "memory usage: 68.5+ KB\n",
      "None\n"
     ]
    }
   ],
   "source": [
    "nct127_tracks = get_all_tracks(nct127_album[1])\n",
    "nct_tracks = get_all_tracks(nct_album[1])\n",
    "nctu_tracks = get_all_tracks(nctu_album[1])\n",
    "nctdream_tracks = get_all_tracks(nctdream_album[1])\n",
    "wayv_tracks = get_all_tracks(wayv_album[1])\n",
    "all_tracks = pd.concat([nct127_tracks, nct_tracks, nctu_tracks, nctdream_tracks, wayv_tracks]).reset_index(drop=True)\n",
    "print(all_tracks.info())"
   ]
  },
  {
   "cell_type": "code",
   "execution_count": 10,
   "metadata": {},
   "outputs": [
    {
     "name": "stdout",
     "output_type": "stream",
     "text": [
      "<class 'pandas.core.frame.DataFrame'>\n",
      "RangeIndex: 151 entries, 0 to 150\n",
      "Data columns (total 21 columns):\n",
      " #   Column            Non-Null Count  Dtype  \n",
      "---  ------            --------------  -----  \n",
      " 0   name              151 non-null    object \n",
      " 1   duration_ms       151 non-null    int64  \n",
      " 2   explicit          151 non-null    bool   \n",
      " 3   track_number      151 non-null    int64  \n",
      " 4   popularity        151 non-null    int64  \n",
      " 5   artist_name       151 non-null    object \n",
      " 6   album_name        151 non-null    object \n",
      " 7   release_date      151 non-null    object \n",
      " 8   danceability      151 non-null    float64\n",
      " 9   energy            151 non-null    float64\n",
      " 10  key               151 non-null    int64  \n",
      " 11  loudness          151 non-null    float64\n",
      " 12  mode              151 non-null    int64  \n",
      " 13  speechiness       151 non-null    float64\n",
      " 14  acousticness      151 non-null    float64\n",
      " 15  instrumentalness  151 non-null    float64\n",
      " 16  liveness          151 non-null    float64\n",
      " 17  tempo             151 non-null    float64\n",
      " 18  time_signature    151 non-null    int64  \n",
      " 19  album_uri         151 non-null    object \n",
      " 20  track_uri         151 non-null    object \n",
      "dtypes: bool(1), float64(8), int64(6), object(6)\n",
      "memory usage: 23.9+ KB\n",
      "None\n"
     ]
    }
   ],
   "source": [
    "nct127_tracks_single = get_all_tracks(nct127_single[1])\n",
    "nct_tracks_single = get_all_tracks(nct_single[1])\n",
    "nctu_tracks_single = get_all_tracks(nctu_single[1])\n",
    "nctdream_tracks_single = get_all_tracks(nctdream_single[1])\n",
    "wayv_tracks_single = get_all_tracks(wayv_single[1])\n",
    "all_tracks_single = pd.concat([nct127_tracks_single, nct_tracks_single, nctu_tracks_single, nctdream_tracks_single, wayv_tracks_single]).reset_index(drop=True)\n",
    "print(all_tracks_single.info())"
   ]
  },
  {
   "cell_type": "code",
   "execution_count": 11,
   "metadata": {},
   "outputs": [
    {
     "name": "stdout",
     "output_type": "stream",
     "text": [
      "<class 'pandas.core.frame.DataFrame'>\n",
      "RangeIndex: 50 entries, 0 to 49\n",
      "Data columns (total 20 columns):\n",
      " #   Column            Non-Null Count  Dtype  \n",
      "---  ------            --------------  -----  \n",
      " 0   artist_name       50 non-null     object \n",
      " 1   name              50 non-null     object \n",
      " 2   album             50 non-null     object \n",
      " 3   popularity        50 non-null     int64  \n",
      " 4   track_number      50 non-null     int64  \n",
      " 5   duration_ms       50 non-null     int64  \n",
      " 6   explicit          50 non-null     bool   \n",
      " 7   id                50 non-null     object \n",
      " 8   track_uri         50 non-null     object \n",
      " 9   danceability      50 non-null     float64\n",
      " 10  energy            50 non-null     float64\n",
      " 11  key               50 non-null     int64  \n",
      " 12  loudness          50 non-null     float64\n",
      " 13  mode              50 non-null     int64  \n",
      " 14  speechiness       50 non-null     float64\n",
      " 15  acousticness      50 non-null     float64\n",
      " 16  instrumentalness  50 non-null     float64\n",
      " 17  liveness          50 non-null     float64\n",
      " 18  tempo             50 non-null     float64\n",
      " 19  time_signature    50 non-null     int64  \n",
      "dtypes: bool(1), float64(8), int64(6), object(5)\n",
      "memory usage: 7.6+ KB\n",
      "None\n"
     ]
    }
   ],
   "source": [
    "nct127_top_tracks = get_top_tracks('NCT 127', nct127_link)\n",
    "nct_top_tracks = get_top_tracks('NCT', nct_link)\n",
    "nctu_top_tracks = get_top_tracks('NCT U', nctu_link)\n",
    "nctdream_top_tracks = get_top_tracks('NCT DREAM', nctdream_link)\n",
    "wayv_top_tracks = get_top_tracks('WayV', wayv_link)\n",
    "all_top_tracks = pd.concat([nct127_top_tracks, nct_top_tracks, nctu_top_tracks, nctdream_top_tracks, wayv_top_tracks]).reset_index(drop=True)\n",
    "print(all_top_tracks.info())"
   ]
  },
  {
   "cell_type": "code",
   "execution_count": 12,
   "metadata": {},
   "outputs": [],
   "source": [
    "# all_single.to_csv('/home/yanamuh/projects/2022_oct_03_spotify/all_single.csv', index=False)\n",
    "# all_albums.to_csv('/home/yanamuh/projects/2022_oct_03_spotify/all_albums.csv', index=False)\n",
    "# all_tracks.to_csv('/home/yanamuh/projects/2022_oct_03_spotify/all_tracks.csv', index=False)\n",
    "# all_tracks_single.to_csv('/home/yanamuh/projects/2022_oct_03_spotify/all_tracks_single.csv', index=False)"
   ]
  },
  {
   "cell_type": "code",
   "execution_count": 42,
   "metadata": {},
   "outputs": [],
   "source": [
    "# merge album/single info with related tracks\n",
    "tracks_and_albums_info = pd.merge(all_albums, all_tracks, on=['album_uri','album_name','release_date','artist_name']).reset_index(drop=True)\n",
    "tracks_and_single_info = pd.merge(all_single, all_tracks_single, on=['album_uri','album_name','release_date','artist_name']).reset_index(drop=True)"
   ]
  },
  {
   "cell_type": "code",
   "execution_count": 46,
   "metadata": {},
   "outputs": [
    {
     "name": "stdout",
     "output_type": "stream",
     "text": [
      "<class 'pandas.core.frame.DataFrame'>\n",
      "RangeIndex: 143 entries, 0 to 142\n",
      "Data columns (total 23 columns):\n",
      " #   Column            Non-Null Count  Dtype  \n",
      "---  ------            --------------  -----  \n",
      " 0   artist_name       143 non-null    object \n",
      " 1   album_name        143 non-null    object \n",
      " 2   album_type        143 non-null    object \n",
      " 3   release_date      143 non-null    object \n",
      " 4   total_tracks      143 non-null    int64  \n",
      " 5   album_uri         143 non-null    object \n",
      " 6   name              143 non-null    object \n",
      " 7   duration_ms       143 non-null    int64  \n",
      " 8   explicit          143 non-null    bool   \n",
      " 9   track_number      143 non-null    int64  \n",
      " 10  popularity        143 non-null    int64  \n",
      " 11  danceability      143 non-null    float64\n",
      " 12  energy            143 non-null    float64\n",
      " 13  key               143 non-null    int64  \n",
      " 14  loudness          143 non-null    float64\n",
      " 15  mode              143 non-null    int64  \n",
      " 16  speechiness       143 non-null    float64\n",
      " 17  acousticness      143 non-null    float64\n",
      " 18  instrumentalness  143 non-null    float64\n",
      " 19  liveness          143 non-null    float64\n",
      " 20  tempo             143 non-null    float64\n",
      " 21  time_signature    143 non-null    int64  \n",
      " 22  track_uri         143 non-null    object \n",
      "dtypes: bool(1), float64(8), int64(7), object(7)\n",
      "memory usage: 24.8+ KB\n"
     ]
    }
   ],
   "source": [
    "tracks_and_single_info.info()"
   ]
  },
  {
   "cell_type": "markdown",
   "metadata": {},
   "source": [
    "Remove same track & same release_date that eventually has different uri (drop that has duplicate release_date and name). Also drop single that has the same release date and name, but the name/album name has different style.\n",
    "- example: Kick It - MINIMONSTER Remix AND Kick It - Minimonster Remix"
   ]
  },
  {
   "cell_type": "code",
   "execution_count": 51,
   "metadata": {},
   "outputs": [],
   "source": [
    "tracks_albums_single_info = pd.concat([tracks_and_albums_info, tracks_and_single_info]).reset_index(drop=True)\n",
    "tracks_albums_single_info['name'] = tracks_albums_single_info['name'].str.lower()"
   ]
  },
  {
   "cell_type": "code",
   "execution_count": 52,
   "metadata": {},
   "outputs": [
    {
     "name": "stdout",
     "output_type": "stream",
     "text": [
      "<class 'pandas.core.frame.DataFrame'>\n",
      "RangeIndex: 560 entries, 0 to 559\n",
      "Data columns (total 23 columns):\n",
      " #   Column            Non-Null Count  Dtype  \n",
      "---  ------            --------------  -----  \n",
      " 0   artist_name       560 non-null    object \n",
      " 1   album_name        560 non-null    object \n",
      " 2   album_type        560 non-null    object \n",
      " 3   release_date      560 non-null    object \n",
      " 4   total_tracks      560 non-null    object \n",
      " 5   album_uri         560 non-null    object \n",
      " 6   name              560 non-null    object \n",
      " 7   duration_ms       560 non-null    object \n",
      " 8   explicit          560 non-null    object \n",
      " 9   track_number      560 non-null    object \n",
      " 10  popularity        560 non-null    object \n",
      " 11  danceability      560 non-null    float64\n",
      " 12  energy            560 non-null    float64\n",
      " 13  key               560 non-null    object \n",
      " 14  loudness          560 non-null    float64\n",
      " 15  mode              560 non-null    object \n",
      " 16  speechiness       560 non-null    float64\n",
      " 17  acousticness      560 non-null    float64\n",
      " 18  instrumentalness  560 non-null    float64\n",
      " 19  liveness          560 non-null    float64\n",
      " 20  tempo             560 non-null    float64\n",
      " 21  time_signature    560 non-null    object \n",
      " 22  track_uri         560 non-null    object \n",
      "dtypes: float64(8), object(15)\n",
      "memory usage: 100.8+ KB\n"
     ]
    }
   ],
   "source": [
    "tracks_albums_single_info.info()"
   ]
  },
  {
   "cell_type": "code",
   "execution_count": 62,
   "metadata": {},
   "outputs": [],
   "source": [
    "tracks_albums_single = tracks_albums_single_info[~tracks_albums_single_info.duplicated(['artist_name','release_date','name'])]\n",
    "tracks_albums_single.to_csv('/home/projects/2022_oct_03_spotify/results/tracks_albums_single.csv', index=False)"
   ]
  },
  {
   "cell_type": "code",
   "execution_count": 63,
   "metadata": {},
   "outputs": [],
   "source": [
    "all_top_tracks.to_csv('/home/projects/2022_oct_03_spotify/results/all_top_tracks.csv', index=False)"
   ]
  }
 ],
 "metadata": {
  "kernelspec": {
   "display_name": "Python 3.8.13 ('webscraping')",
   "language": "python",
   "name": "python3"
  },
  "language_info": {
   "codemirror_mode": {
    "name": "ipython",
    "version": 3
   },
   "file_extension": ".py",
   "mimetype": "text/x-python",
   "name": "python",
   "nbconvert_exporter": "python",
   "pygments_lexer": "ipython3",
   "version": "3.8.13"
  },
  "orig_nbformat": 4,
  "vscode": {
   "interpreter": {
    "hash": "618fa2af51cb9507f06915e22581507efe8ae6220a526c8579bc9221fe3d6b04"
   }
  }
 },
 "nbformat": 4,
 "nbformat_minor": 2
}
